{
 "cells": [
  {
   "cell_type": "code",
   "execution_count": null,
   "metadata": {
    "collapsed": true
   },
   "outputs": [],
   "source": [
    "def mean_age(df, pclass, title):\n",
    "    '''\n",
    "    Function which takes as inputs the entire titanic dataframe, a pclass and a passenger honorific. The mean and S.D age of passengers \n",
    "    with that pclass and title is calculated. Random numbers within +/-1std of the mean are generated for the missing age values.\n",
    "    '''\n",
    "    mean_age = train_df.loc[(train_df[\"Honorific\"] == title) & (train_df[\"Pclass\"] == pclass), \"Age\"].dropna().mean()\n",
    "    std_age = train_df.loc[(train_df[\"Honorific\"] == title) & (train_df[\"Pclass\"] == pclass), \"Age\"].dropna().std()\n",
    "    \n",
    "    if mean_age < 0:\n",
    "        length = df.loc[(df[\"Honorific\"] == title) & (df[\"Pclass\"] == pclass) & (df[\"Age\"].isnull()), \"Age\"].shape[0]\n",
    "        est_ages = np.zeros(length, dtype=float)\n",
    "    \n",
    "        i=0\n",
    "        while i < length:\n",
    "            val = random.uniform((mean_age - std_age), (mean_age + std_age))\n",
    "            est_ages[i] = val\n",
    "            i+=1\n",
    "    \n",
    "        df.loc[(df[\"Honorific\"] == title) & (df[\"Pclass\"] == pclass) & (df[\"Age\"].isnull()), \"Age\"] = est_ages\n",
    "    \n",
    "    else:\n",
    "        df.loc[(df[\"Honorific\"] == title) & (df[\"Pclass\"] == pclass) & (df[\"Age\"].isnull()), \"Age\"] = train_df['Age'].mean()\n",
    "    \n",
    "    return df"
   ]
  }
 ],
 "metadata": {
  "kernelspec": {
   "display_name": "Python 3",
   "language": "python",
   "name": "python3"
  },
  "language_info": {
   "codemirror_mode": {
    "name": "ipython",
    "version": 3
   },
   "file_extension": ".py",
   "mimetype": "text/x-python",
   "name": "python",
   "nbconvert_exporter": "python",
   "pygments_lexer": "ipython3",
   "version": "3.6.2"
  }
 },
 "nbformat": 4,
 "nbformat_minor": 2
}
